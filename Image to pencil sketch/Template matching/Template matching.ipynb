{
 "cells": [
  {
   "cell_type": "code",
   "execution_count": 5,
   "id": "a4d59b13",
   "metadata": {},
   "outputs": [],
   "source": [
    "import cv2\n",
    "import numpy as np\n",
    "\n",
    "def template_matching(target_image_path, template_image_path):\n",
    "    # Read the target image and template\n",
    "    target_image = cv2.imread(target_image_path)\n",
    "    template = cv2.imread(template_image_path)\n",
    "\n",
    "    # Get the dimensions of the template\n",
    "    template_height, template_width, _ = template.shape\n",
    "\n",
    "    # Perform template matching\n",
    "    result = cv2.matchTemplate(target_image, template, cv2.TM_CCOEFF_NORMED)\n",
    "    min_val, max_val, min_loc, max_loc = cv2.minMaxLoc(result)\n",
    "\n",
    "    # Get the top-left corner of the match\n",
    "    top_left = max_loc\n",
    "\n",
    "    # Get the bottom-right corner of the match\n",
    "    bottom_right = (top_left[0] + template_width, top_left[1] + template_height)\n",
    "\n",
    "    # Draw a rectangle around the matched area\n",
    "    cv2.rectangle(target_image, top_left, bottom_right, (0, 255, 0), 2)\n",
    "\n",
    "    # Display the result\n",
    "    display_image = cv2.resize(target_image, (800, 600))\n",
    "    cv2.imshow('Template Matching Result', display_image)\n",
    "    cv2.waitKey(0)\n",
    "    cv2.destroyAllWindows()\n",
    "\n"
   ]
  },
  {
   "cell_type": "code",
   "execution_count": 8,
   "id": "720d73ff",
   "metadata": {},
   "outputs": [],
   "source": [
    " #Example usage\n",
    "template_matching(r'C:\\Users\\vamsh\\OneDrive\\Pictures\\my image.jpg',r\"C:\\Users\\vamsh\\OneDrive\\Pictures\\photo-prof.jpg\")\n"
   ]
  },
  {
   "cell_type": "code",
   "execution_count": null,
   "id": "5d432f09",
   "metadata": {},
   "outputs": [],
   "source": []
  }
 ],
 "metadata": {
  "kernelspec": {
   "display_name": "Python 3 (ipykernel)",
   "language": "python",
   "name": "python3"
  },
  "language_info": {
   "codemirror_mode": {
    "name": "ipython",
    "version": 3
   },
   "file_extension": ".py",
   "mimetype": "text/x-python",
   "name": "python",
   "nbconvert_exporter": "python",
   "pygments_lexer": "ipython3",
   "version": "3.10.9"
  }
 },
 "nbformat": 4,
 "nbformat_minor": 5
}
